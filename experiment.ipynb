{
 "cells": [
  {
   "cell_type": "code",
   "execution_count": 1,
   "metadata": {},
   "outputs": [],
   "source": [
    "import pandas as pd\n",
    "import joblib\n",
    "from sklearn.neighbors import KNeighborsClassifier\n",
    "from sklearn.model_selection import train_test_split"
   ]
  },
  {
   "cell_type": "code",
   "execution_count": 2,
   "metadata": {},
   "outputs": [],
   "source": [
    "replay_memory_location_bully = \"ML_replay_memories/bully_bully_30k_games_for_rollout.txt\"\n",
    "replay_memory_location_rand = \"ML_replay_memories/random_random_30k_games_for_rollout.txt\"\n",
    "replay_memory_location_rdeep = \"ML_replay_memories/rdeep_rdeep_30k_games_for_rollout.txt\"\n",
    "replay_memory_location_2nd_bot = \"ML_replay_memories/2ndBot_2ndBot_30k_games_for_rollout.txt\""
   ]
  },
  {
   "cell_type": "code",
   "execution_count": 3,
   "metadata": {},
   "outputs": [],
   "source": [
    "# labbels\n",
    "# 0 rand_bot\n",
    "# 1 bully_bot\n",
    "# 2 rdeep_bot\n",
    "# 3 2nd_bot"
   ]
  },
  {
   "cell_type": "code",
   "execution_count": 4,
   "metadata": {},
   "outputs": [],
   "source": [
    "data_rand: list[list[int]] = []\n",
    "targets_rand: list[int] = []\n",
    "with open(file=replay_memory_location_rand, mode=\"r\") as replay_memory_file:\n",
    "    for line in replay_memory_file:\n",
    "        feature_string, won_label_str = line.split(\"||\")\n",
    "        feature_list_strings: list[str] = feature_string.split(\",\")\n",
    "        feature_list = [float(feature) for feature in feature_list_strings]\n",
    "        won_label = int(won_label_str)\n",
    "        data_rand.append(feature_list)\n",
    "        targets_rand.append(0)"
   ]
  },
  {
   "cell_type": "code",
   "execution_count": 5,
   "metadata": {},
   "outputs": [],
   "source": [
    "data_bully: list[list[int]] = []\n",
    "targets_bully: list[int] = []\n",
    "with open(file=replay_memory_location_bully, mode=\"r\") as replay_memory_file:\n",
    "    for line in replay_memory_file:\n",
    "        feature_string, won_label_str = line.split(\"||\")\n",
    "        feature_list_strings: list[str] = feature_string.split(\",\")\n",
    "        feature_list = [float(feature) for feature in feature_list_strings]\n",
    "        won_label = int(won_label_str)\n",
    "        data_bully.append(feature_list)\n",
    "        targets_bully.append(1)"
   ]
  },
  {
   "cell_type": "code",
   "execution_count": 6,
   "metadata": {},
   "outputs": [],
   "source": [
    "data_rdeep: list[list[int]] = []\n",
    "targets_rdeep: list[int] = []\n",
    "with open(file=replay_memory_location_rdeep, mode=\"r\") as replay_memory_file:\n",
    "    for line in replay_memory_file:\n",
    "        feature_string, won_label_str = line.split(\"||\")\n",
    "        feature_list_strings: list[str] = feature_string.split(\",\")\n",
    "        feature_list = [float(feature) for feature in feature_list_strings]\n",
    "        won_label = int(won_label_str)\n",
    "        data_rdeep.append(feature_list)\n",
    "        targets_rdeep.append(2)"
   ]
  },
  {
   "cell_type": "code",
   "execution_count": 7,
   "metadata": {},
   "outputs": [],
   "source": [
    "data_2ndBot: list[list[int]] = []\n",
    "targets_2ndBot: list[int] = []\n",
    "with open(file=replay_memory_location_2nd_bot, mode=\"r\") as replay_memory_file:\n",
    "    for line in replay_memory_file:\n",
    "        feature_string, won_label_str = line.split(\"||\")\n",
    "        feature_list_strings: list[str] = feature_string.split(\",\")\n",
    "        feature_list = [float(feature) for feature in feature_list_strings]\n",
    "        won_label = int(won_label_str)\n",
    "        data_2ndBot.append(feature_list)\n",
    "        targets_2ndBot.append(3)"
   ]
  },
  {
   "cell_type": "code",
   "execution_count": 8,
   "metadata": {},
   "outputs": [],
   "source": [
    "data = data_rand + data_bully + data_rdeep + data_2ndBot\n",
    "target = targets_rand + targets_bully + targets_rdeep + targets_2ndBot"
   ]
  },
  {
   "cell_type": "code",
   "execution_count": 9,
   "metadata": {},
   "outputs": [],
   "source": [
    "train_data, test_data, train_targets, test_targets = train_test_split(data, target, test_size = 0.3, random_state=4545, shuffle = True)"
   ]
  },
  {
   "cell_type": "code",
   "execution_count": 14,
   "metadata": {},
   "outputs": [],
   "source": [
    "model = KNeighborsClassifier(n_neighbors=5)\n"
   ]
  },
  {
   "cell_type": "code",
   "execution_count": 16,
   "metadata": {},
   "outputs": [
    {
     "data": {
      "text/plain": [
       "KNeighborsClassifier()"
      ]
     },
     "execution_count": 16,
     "metadata": {},
     "output_type": "execute_result"
    }
   ],
   "source": [
    "model.fit(train_data,train_targets)"
   ]
  },
  {
   "cell_type": "code",
   "execution_count": 18,
   "metadata": {},
   "outputs": [
    {
     "data": {
      "text/plain": [
       "0.5608373003118057"
      ]
     },
     "execution_count": 18,
     "metadata": {},
     "output_type": "execute_result"
    }
   ],
   "source": [
    "model.score(test_data, test_targets)"
   ]
  },
  {
   "cell_type": "code",
   "execution_count": 17,
   "metadata": {},
   "outputs": [
    {
     "data": {
      "text/plain": [
       "['ML_models/KNN_model']"
      ]
     },
     "execution_count": 17,
     "metadata": {},
     "output_type": "execute_result"
    }
   ],
   "source": [
    "model_location = \"ML_models/KNN_model\"\n",
    "joblib.dump(model, model_location)"
   ]
  },
  {
   "cell_type": "code",
   "execution_count": 24,
   "metadata": {},
   "outputs": [],
   "source": [
    "import numpy as np"
   ]
  },
  {
   "cell_type": "code",
   "execution_count": 30,
   "metadata": {},
   "outputs": [
    {
     "data": {
      "text/plain": [
       "3"
      ]
     },
     "execution_count": 30,
     "metadata": {},
     "output_type": "execute_result"
    }
   ],
   "source": [
    "model.predict(np.array(test_data[3]).reshape(1,-1))[0]"
   ]
  },
  {
   "cell_type": "code",
   "execution_count": 31,
   "metadata": {},
   "outputs": [
    {
     "data": {
      "text/plain": [
       "3"
      ]
     },
     "execution_count": 31,
     "metadata": {},
     "output_type": "execute_result"
    }
   ],
   "source": [
    "np.argmax([8,0,10,11])"
   ]
  }
 ],
 "metadata": {
  "kernelspec": {
   "display_name": "IS_project",
   "language": "python",
   "name": "python3"
  },
  "language_info": {
   "codemirror_mode": {
    "name": "ipython",
    "version": 3
   },
   "file_extension": ".py",
   "mimetype": "text/x-python",
   "name": "python",
   "nbconvert_exporter": "python",
   "pygments_lexer": "ipython3",
   "version": "3.9.15"
  },
  "orig_nbformat": 4,
  "vscode": {
   "interpreter": {
    "hash": "b3408477556b0d8e7fb09b204af22cf9f1e2af8d9fde5291d3e1085fb9b210e8"
   }
  }
 },
 "nbformat": 4,
 "nbformat_minor": 2
}
